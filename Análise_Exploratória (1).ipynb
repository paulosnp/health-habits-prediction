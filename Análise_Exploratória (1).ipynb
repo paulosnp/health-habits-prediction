{
  "cells": [
    {
      "cell_type": "markdown",
      "metadata": {
        "id": "TrFdOSm90M48"
      },
      "source": [
        "# Análise Exploratória do Dataset Smoking & Drinking\n",
        "\n",
        "Neste notebook realizamos uma Análise Exploratória de Dados (EDA) sobre o conjunto de dados relacionado a hábitos de fumar e beber.  \n",
        "O objetivo é entender a estrutura do dataset, explorar padrões entre variáveis e levantar hipóteses iniciais que podem ser úteis em análises mais avançadas.\n"
      ]
    },
    {
      "cell_type": "code",
      "execution_count": 1,
      "metadata": {
        "colab": {
          "base_uri": "https://localhost:8080/",
          "height": 56
        },
        "collapsed": true,
        "id": "WQ9GRv4Fz0Jw",
        "outputId": "e6b7f589-0d1d-455d-93e2-929d640d10c5"
      },
      "outputs": [
        {
          "ename": "ModuleNotFoundError",
          "evalue": "No module named 'pandas'",
          "output_type": "error",
          "traceback": [
            "\u001b[31m---------------------------------------------------------------------------\u001b[39m",
            "\u001b[31mModuleNotFoundError\u001b[39m                       Traceback (most recent call last)",
            "\u001b[36mCell\u001b[39m\u001b[36m \u001b[39m\u001b[32mIn[1]\u001b[39m\u001b[32m, line 2\u001b[39m\n\u001b[32m      1\u001b[39m \u001b[38;5;66;03m# Bibliotecas principais\u001b[39;00m\n\u001b[32m----> \u001b[39m\u001b[32m2\u001b[39m \u001b[38;5;28;01mimport\u001b[39;00m\u001b[38;5;250m \u001b[39m\u001b[34;01mpandas\u001b[39;00m\u001b[38;5;250m \u001b[39m\u001b[38;5;28;01mas\u001b[39;00m\u001b[38;5;250m \u001b[39m\u001b[34;01mpd\u001b[39;00m\n\u001b[32m      3\u001b[39m \u001b[38;5;28;01mimport\u001b[39;00m\u001b[38;5;250m \u001b[39m\u001b[34;01mnumpy\u001b[39;00m\u001b[38;5;250m \u001b[39m\u001b[38;5;28;01mas\u001b[39;00m\u001b[38;5;250m \u001b[39m\u001b[34;01mnp\u001b[39;00m\n\u001b[32m      4\u001b[39m \u001b[38;5;28;01mimport\u001b[39;00m\u001b[38;5;250m \u001b[39m\u001b[34;01mmatplotlib\u001b[39;00m\u001b[34;01m.\u001b[39;00m\u001b[34;01mpyplot\u001b[39;00m\u001b[38;5;250m \u001b[39m\u001b[38;5;28;01mas\u001b[39;00m\u001b[38;5;250m \u001b[39m\u001b[34;01mplt\u001b[39;00m\n",
            "\u001b[31mModuleNotFoundError\u001b[39m: No module named 'pandas'"
          ]
        }
      ],
      "source": [
        "# Bibliotecas principais\n",
        "import pandas as pd\n",
        "import numpy as np\n",
        "import matplotlib.pyplot as plt\n",
        "import seaborn as sns\n",
        "\n",
        "from google.colab import files\n",
        "uploaded = files.upload()\n",
        "\n",
        "# Estilo dos gráficos\n",
        "sns.set(style=\"whitegrid\", palette=\"pastel\")\n",
        "\n",
        "# Carregar dataset\n",
        "df = pd.read_csv(\"smoking_driking_dataset_Ver01.csv\")\n",
        "df.head()\n"
      ]
    },
    {
      "cell_type": "code",
      "execution_count": null,
      "metadata": {
        "id": "eokOnhb_1EnY"
      },
      "outputs": [],
      "source": [
        "# Estrutura do dataset\n",
        "df.info()\n",
        "df.describe()\n",
        "df.isnull().sum()\n",
        "\n"
      ]
    },
    {
      "cell_type": "markdown",
      "metadata": {
        "id": "YxKqZl2h3U9n"
      },
      "source": [
        "## Estrutura do Dataset\n",
        "\n",
        "- O dataset possui **X colunas** e **Y linhas**.  \n",
        "- Não foram encontrados valores ausentes (**ou** existem valores nulos em `colunas`).  \n",
        "- As variáveis incluem dados sobre **idade, gênero, altura, peso, pressão arterial, colesterol, hábitos de fumar e beber**, entre outras.  \n"
      ]
    },
    {
      "cell_type": "code",
      "execution_count": null,
      "metadata": {
        "id": "5g9Ngq2G3XLf"
      },
      "outputs": [],
      "source": [
        "## Análise Univariada\n",
        "# Distribuição da Idade\n",
        "plt.figure(figsize=(8,5))\n",
        "sns.histplot(df[\"age\"], bins=30, kde=True)\n",
        "plt.title(\"Distribuição de Idade\")\n",
        "plt.show()\n"
      ]
    },
    {
      "cell_type": "code",
      "execution_count": null,
      "metadata": {
        "id": "mItpP2yL3bqC"
      },
      "outputs": [],
      "source": [
        "# Proporção fumantes\n",
        "sns.countplot(x=\"SMK_stat_type_cd\", data=df)\n",
        "plt.title(\"Proporção de Fumantes\")\n",
        "plt.show()\n"
      ]
    },
    {
      "cell_type": "markdown",
      "metadata": {
        "id": "5XBK-xJK3iha"
      },
      "source": [
        "### Insights Univariados\n",
        "- Idade concentrada entre **X e Y anos**.  \n",
        "- **X%** fumam, **Y%** não fumam.  \n",
        "- **X%** bebem, **Y%** não bebem.  \n"
      ]
    },
    {
      "cell_type": "code",
      "execution_count": null,
      "metadata": {
        "id": "UpsDIw3f3gub"
      },
      "outputs": [],
      "source": [
        "# Proporção quem bebe\n",
        "sns.countplot(x=\"DRK_YN\", data=df)\n",
        "plt.title(\"Proporção de Pessoas que Bebem\")\n",
        "plt.show()\n"
      ]
    },
    {
      "cell_type": "code",
      "execution_count": null,
      "metadata": {
        "id": "0GPoV4Az3pvU"
      },
      "outputs": [],
      "source": [
        "## Análise Bivariada\n",
        "\n",
        "# Idade x Fumar\n",
        "plt.figure(figsize=(8,5))\n",
        "sns.boxplot(x=\"SMK_stat_type_cd\", y=\"age\", data=df)\n",
        "plt.title(\"Idade vs Hábito de Fumar\")\n",
        "plt.show()\n"
      ]
    },
    {
      "cell_type": "code",
      "execution_count": null,
      "metadata": {
        "id": "Ol7J8yj33ug_"
      },
      "outputs": [],
      "source": [
        "# Gênero x Beber\n",
        "plt.figure(figsize=(8,5))\n",
        "sns.countplot(x=\"sex\", hue=\"DRK_YN\", data=df)\n",
        "plt.title(\"Consumo de Álcool por Gênero\")\n",
        "plt.show()\n"
      ]
    },
    {
      "cell_type": "markdown",
      "metadata": {
        "id": "WVN7fR3D3v7-"
      },
      "source": [
        "### Insights Bivariados\n",
        "- Fumantes tendem a ser **mais / menos** velhos que não fumantes.  \n",
        "- Diferença entre gêneros no consumo de álcool: homens/mulheres apresentam maior proporção.  \n"
      ]
    },
    {
      "cell_type": "markdown",
      "metadata": {
        "id": "BoU46MZC3xDW"
      },
      "source": [
        "## Análise Multivariada\n"
      ]
    },
    {
      "cell_type": "code",
      "execution_count": null,
      "metadata": {
        "id": "G4aPoI6u3yMp"
      },
      "outputs": [],
      "source": [
        "# Correlação entre variáveis numéricas\n",
        "plt.figure(figsize=(10,8))\n",
        "sns.heatmap(df.corr(numeric_only=True), annot=True, cmap=\"coolwarm\", fmt=\".2f\")\n",
        "plt.title(\"Mapa de Correlação\")\n",
        "plt.show()\n",
        "\n"
      ]
    },
    {
      "cell_type": "markdown",
      "metadata": {
        "id": "9SgrVD-n3zfl"
      },
      "source": [
        "### Insights Multivariados\n",
        "- Correlação forte entre **peso e altura**.  \n",
        "- Pressão arterial e colesterol apresentam **correlações relevantes**.  \n",
        "- Relações de fumar/beber com variáveis de saúde parecem **fracas/moderadas/fortes**.  \n"
      ]
    },
    {
      "cell_type": "markdown",
      "metadata": {
        "id": "pKWCwSDu36Ts"
      },
      "source": [
        "# Conclusões Iniciais\n",
        "\n",
        "1. A maior parte da amostra está na faixa etária de **X-Y anos**.  \n",
        "2. O hábito de fumar é **mais / menos** frequente que o de beber.  \n",
        "3. Diferenças de gênero aparecem no consumo de álcool.  \n",
        "4. Variáveis biométricas (peso, altura, pressão) se comportam como esperado e se correlacionam.  \n",
        "5. Há indícios de associação entre fumar, beber e indicadores de saúde, mas que exigem análises mais profundas.\n",
        "\n",
        "Esses pontos levantam hipóteses para futuros modelos estatísticos ou de machine learning.\n"
      ]
    },
    {
      "cell_type": "code",
      "execution_count": null,
      "metadata": {
        "id": "H5ylpbj18rLv"
      },
      "outputs": [],
      "source": [
        "df.columns\n"
      ]
    }
  ],
  "metadata": {
    "colab": {
      "provenance": []
    },
    "kernelspec": {
      "display_name": "Python 3",
      "name": "python3"
    },
    "language_info": {
      "codemirror_mode": {
        "name": "ipython",
        "version": 3
      },
      "file_extension": ".py",
      "mimetype": "text/x-python",
      "name": "python",
      "nbconvert_exporter": "python",
      "pygments_lexer": "ipython3",
      "version": "3.11.9"
    }
  },
  "nbformat": 4,
  "nbformat_minor": 0
}
